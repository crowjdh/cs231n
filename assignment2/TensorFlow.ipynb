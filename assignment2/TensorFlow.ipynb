{
 "cells": [
  {
   "cell_type": "markdown",
   "metadata": {},
   "source": [
    "## What's this TensorFlow business?\n",
    "\n",
    "You've written a lot of code in this assignment to provide a whole host of neural network functionality. Dropout, Batch Norm, and 2D convolutions are some of the workhorses of deep learning in computer vision. You've also worked hard to make your code efficient and vectorized.\n",
    "\n",
    "For the last part of this assignment, though, we're going to leave behind your beautiful codebase and instead migrate to one of two popular deep learning frameworks: in this instance, TensorFlow (or PyTorch, if you switch over to that notebook)\n",
    "\n",
    "#### What is it?\n",
    "TensorFlow is a system for executing computational graphs over Tensor objects, with native support for performing backpropogation for its Variables. In it, we work with Tensors which are n-dimensional arrays analogous to the numpy ndarray.\n",
    "\n",
    "#### Why?\n",
    "\n",
    "* Our code will now run on GPUs! Much faster training. Writing your own modules to run on GPUs is beyond the scope of this class, unfortunately.\n",
    "* We want you to be ready to use one of these frameworks for your project so you can experiment more efficiently than if you were writing every feature you want to use by hand. \n",
    "* We want you to stand on the shoulders of giants! TensorFlow and PyTorch are both excellent frameworks that will make your lives a lot easier, and now that you understand their guts, you are free to use them :) \n",
    "* We want you to be exposed to the sort of deep learning code you might run into in academia or industry. "
   ]
  },
  {
   "cell_type": "markdown",
   "metadata": {},
   "source": [
    "## How will I learn TensorFlow?\n",
    "\n",
    "TensorFlow has many excellent tutorials available, including those from [Google themselves](https://www.tensorflow.org/get_started/get_started).\n",
    "\n",
    "Otherwise, this notebook will walk you through much of what you need to do to train models in TensorFlow. See the end of the notebook for some links to helpful tutorials if you want to learn more or need further clarification on topics that aren't fully explained here."
   ]
  },
  {
   "cell_type": "markdown",
   "metadata": {},
   "source": [
    "## Load Datasets\n"
   ]
  },
  {
   "cell_type": "code",
   "execution_count": 1,
   "metadata": {},
   "outputs": [
    {
     "name": "stderr",
     "output_type": "stream",
     "text": [
      "/home/shared/anaconda3/lib/python3.6/site-packages/h5py/__init__.py:36: FutureWarning: Conversion of the second argument of issubdtype from `float` to `np.floating` is deprecated. In future, it will be treated as `np.float64 == np.dtype(float).type`.\n",
      "  from ._conv import register_converters as _register_converters\n"
     ]
    }
   ],
   "source": [
    "import tensorflow as tf\n",
    "import numpy as np\n",
    "import math\n",
    "import timeit\n",
    "import matplotlib.pyplot as plt\n",
    "%matplotlib inline"
   ]
  },
  {
   "cell_type": "code",
   "execution_count": 2,
   "metadata": {},
   "outputs": [
    {
     "name": "stdout",
     "output_type": "stream",
     "text": [
      "Train data shape:  (49000, 32, 32, 3)\n",
      "Train labels shape:  (49000,)\n",
      "Validation data shape:  (1000, 32, 32, 3)\n",
      "Validation labels shape:  (1000,)\n",
      "Test data shape:  (10000, 32, 32, 3)\n",
      "Test labels shape:  (10000,)\n"
     ]
    }
   ],
   "source": [
    "from cs231n.data_utils import load_CIFAR10\n",
    "\n",
    "def get_CIFAR10_data(num_training=49000, num_validation=1000, num_test=10000):\n",
    "    \"\"\"\n",
    "    Load the CIFAR-10 dataset from disk and perform preprocessing to prepare\n",
    "    it for the two-layer neural net classifier. These are the same steps as\n",
    "    we used for the SVM, but condensed to a single function.  \n",
    "    \"\"\"\n",
    "    # Load the raw CIFAR-10 data\n",
    "    cifar10_dir = 'cs231n/datasets/cifar-10-batches-py'\n",
    "    X_train, y_train, X_test, y_test = load_CIFAR10(cifar10_dir)\n",
    "\n",
    "    # Subsample the data\n",
    "    mask = range(num_training, num_training + num_validation)\n",
    "    X_val = X_train[mask]\n",
    "    y_val = y_train[mask]\n",
    "    mask = range(num_training)\n",
    "    X_train = X_train[mask]\n",
    "    y_train = y_train[mask]\n",
    "    mask = range(num_test)\n",
    "    X_test = X_test[mask]\n",
    "    y_test = y_test[mask]\n",
    "\n",
    "    # Normalize the data: subtract the mean image\n",
    "    mean_image = np.mean(X_train, axis=0)\n",
    "    X_train -= mean_image\n",
    "    X_val -= mean_image\n",
    "    X_test -= mean_image\n",
    "\n",
    "    return X_train, y_train, X_val, y_val, X_test, y_test\n",
    "\n",
    "\n",
    "# Invoke the above function to get our data.\n",
    "X_train, y_train, X_val, y_val, X_test, y_test = get_CIFAR10_data()\n",
    "print('Train data shape: ', X_train.shape)\n",
    "print('Train labels shape: ', y_train.shape)\n",
    "print('Validation data shape: ', X_val.shape)\n",
    "print('Validation labels shape: ', y_val.shape)\n",
    "print('Test data shape: ', X_test.shape)\n",
    "print('Test labels shape: ', y_test.shape)"
   ]
  },
  {
   "cell_type": "markdown",
   "metadata": {},
   "source": [
    "## Example Model\n",
    "\n",
    "### Some useful utilities\n",
    "\n",
    ". Remember that our image data is initially N x H x W x C, where:\n",
    "* N is the number of datapoints\n",
    "* H is the height of each image in pixels\n",
    "* W is the height of each image in pixels\n",
    "* C is the number of channels (usually 3: R, G, B)\n",
    "\n",
    "This is the right way to represent the data when we are doing something like a 2D convolution, which needs spatial understanding of where the pixels are relative to each other. When we input image data into fully connected affine layers, however, we want each data example to be represented by a single vector -- it's no longer useful to segregate the different channels, rows, and columns of the data."
   ]
  },
  {
   "cell_type": "markdown",
   "metadata": {},
   "source": [
    "### The example model itself\n",
    "\n",
    "The first step to training your own model is defining its architecture.\n",
    "\n",
    "Here's an example of a convolutional neural network defined in TensorFlow -- try to understand what each line is doing, remembering that each layer is composed upon the previous layer. We haven't trained anything yet - that'll come next - for now, we want you to understand how everything gets set up. \n",
    "\n",
    "In that example, you see 2D convolutional layers (Conv2d), ReLU activations, and fully-connected layers (Linear). You also see the Hinge loss function, and the Adam optimizer being used. \n",
    "\n",
    "Make sure you understand why the parameters of the Linear layer are 5408 and 10.\n",
    "\n",
    "### TensorFlow Details\n",
    "In TensorFlow, much like in our previous notebooks, we'll first specifically initialize our variables, and then our network model."
   ]
  },
  {
   "cell_type": "code",
   "execution_count": 3,
   "metadata": {},
   "outputs": [],
   "source": [
    "# clear old variables\n",
    "tf.reset_default_graph()\n",
    "\n",
    "# setup input (e.g. the data that changes every batch)\n",
    "# The first dim is None, and gets sets automatically based on batch size fed in\n",
    "X = tf.placeholder(tf.float32, [None, 32, 32, 3])\n",
    "y = tf.placeholder(tf.int64, [None])\n",
    "is_training = tf.placeholder(tf.bool)\n",
    "\n",
    "def simple_model(X,y):\n",
    "    # define our weights (e.g. init_two_layer_convnet)\n",
    "    \n",
    "    # setup variables\n",
    "    Wconv1 = tf.get_variable(\"Wconv1\", shape=[7, 7, 3, 32])\n",
    "    bconv1 = tf.get_variable(\"bconv1\", shape=[32])\n",
    "    W1 = tf.get_variable(\"W1\", shape=[5408, 10])\n",
    "    b1 = tf.get_variable(\"b1\", shape=[10])\n",
    "\n",
    "    # define our graph (e.g. two_layer_convnet)\n",
    "    a1 = tf.nn.conv2d(X, Wconv1, strides=[1,2,2,1], padding='VALID') + bconv1\n",
    "    h1 = tf.nn.relu(a1)\n",
    "    h1_flat = tf.reshape(h1,[-1,5408])\n",
    "    y_out = tf.matmul(h1_flat,W1) + b1\n",
    "    return y_out\n",
    "\n",
    "y_out = simple_model(X,y)\n",
    "\n",
    "# define our loss\n",
    "total_loss = tf.losses.hinge_loss(tf.one_hot(y,10),logits=y_out)\n",
    "mean_loss = tf.reduce_mean(total_loss)\n",
    "\n",
    "# define our optimizer\n",
    "optimizer = tf.train.AdamOptimizer(5e-4) # select optimizer and set learning rate\n",
    "train_step = optimizer.minimize(mean_loss)"
   ]
  },
  {
   "cell_type": "markdown",
   "metadata": {},
   "source": [
    "TensorFlow supports many other layer types, loss functions, and optimizers - you will experiment with these next. Here's the official API documentation for these (if any of the parameters used above were unclear, this resource will also be helpful). \n",
    "\n",
    "* Layers, Activations, Loss functions : https://www.tensorflow.org/api_guides/python/nn\n",
    "* Optimizers: https://www.tensorflow.org/api_guides/python/train#Optimizers\n",
    "* BatchNorm: https://www.tensorflow.org/api_docs/python/tf/layers/batch_normalization"
   ]
  },
  {
   "cell_type": "markdown",
   "metadata": {},
   "source": [
    "### Training the model on one epoch\n",
    "While we have defined a graph of operations above, in order to execute TensorFlow Graphs, by feeding them input data and computing the results, we first need to create a `tf.Session` object. A session encapsulates the control and state of the TensorFlow runtime. For more information, see the TensorFlow [Getting started](https://www.tensorflow.org/get_started/get_started) guide.\n",
    "\n",
    "Optionally we can also specify a device context such as `/cpu:0` or `/gpu:0`. For documentation on this behavior see [this TensorFlow guide](https://www.tensorflow.org/tutorials/using_gpu)\n",
    "\n",
    "You should see a validation loss of around 0.4 to 0.6 and an accuracy of 0.30 to 0.35 below"
   ]
  },
  {
   "cell_type": "code",
   "execution_count": null,
   "metadata": {},
   "outputs": [],
   "source": [
    "print(y.graph)"
   ]
  },
  {
   "cell_type": "code",
   "execution_count": 8,
   "metadata": {},
   "outputs": [],
   "source": [
    "def run_model(session, predict, loss_val, X, y, is_training, Xd, yd,\n",
    "              epochs=1, batch_size=64, print_every=100,\n",
    "              training=None, plot_losses=False, graph=tf.get_default_graph(), disable_print=False):\n",
    "    # have tensorflow compute accuracy\n",
    "    with graph.as_default():\n",
    "        correct_prediction = tf.equal(tf.argmax(predict,1), y)\n",
    "        accuracy = tf.reduce_mean(tf.cast(correct_prediction, tf.float32))\n",
    "    \n",
    "    # shuffle indicies\n",
    "    train_indicies = np.arange(Xd.shape[0])\n",
    "    np.random.shuffle(train_indicies)\n",
    "\n",
    "    training_now = training is not None\n",
    "    \n",
    "    # setting up variables we want to compute (and optimizing)\n",
    "    # if we have a training function, add that to things we compute\n",
    "    variables = [loss_val,correct_prediction,accuracy]\n",
    "    if training_now:\n",
    "        variables[-1] = training\n",
    "    \n",
    "    # counter \n",
    "    iter_cnt = 0\n",
    "    for e in range(epochs):\n",
    "        # keep track of losses and accuracy\n",
    "        correct = 0\n",
    "        losses = []\n",
    "        # make sure we iterate over the dataset once\n",
    "        for i in range(int(math.ceil(Xd.shape[0]/batch_size))):\n",
    "            # generate indicies for the batch\n",
    "            start_idx = (i*batch_size)%Xd.shape[0]\n",
    "            idx = train_indicies[start_idx:start_idx+batch_size]\n",
    "            \n",
    "            # create a feed dictionary for this batch\n",
    "            feed_dict = {X: Xd[idx,:],\n",
    "                         y: yd[idx],\n",
    "                         is_training: training_now }\n",
    "            # get batch size\n",
    "            actual_batch_size = yd[idx].shape[0]\n",
    "            \n",
    "            # have tensorflow compute loss and correct predictions\n",
    "            # and (if given) perform a training step\n",
    "            loss, corr, _ = session.run(variables,feed_dict=feed_dict)\n",
    "            \n",
    "            # aggregate performance stats\n",
    "            losses.append(loss*actual_batch_size)\n",
    "            correct += np.sum(corr)\n",
    "            \n",
    "            # print every now and then\n",
    "            if not disable_print and training_now and (iter_cnt % print_every) == 0:\n",
    "                print(\"Iteration {0}: with minibatch training loss = {1:.3g} and accuracy of {2:.2g}\"\\\n",
    "                      .format(iter_cnt,loss,float(np.sum(corr))/float(actual_batch_size)))\n",
    "            iter_cnt += 1\n",
    "        total_correct = float(correct)/float(Xd.shape[0])\n",
    "        total_loss = np.sum(losses)/Xd.shape[0]\n",
    "        if not disable_print:\n",
    "            print(\"Epoch {2}, Overall loss = {0:.3g} and accuracy of {1:.3g}\"\\\n",
    "                  .format(total_loss,total_correct,e+1))\n",
    "        if plot_losses:\n",
    "            plt.plot(losses)\n",
    "            plt.grid(True)\n",
    "            plt.title('Epoch {} Loss'.format(e+1))\n",
    "            plt.xlabel('minibatch number')\n",
    "            plt.ylabel('minibatch loss')\n",
    "            plt.show()\n",
    "    return total_loss,total_correct"
   ]
  },
  {
   "cell_type": "code",
   "execution_count": null,
   "metadata": {},
   "outputs": [],
   "source": [
    "with tf.Session() as sess:\n",
    "    with tf.device(\"/cpu:0\"): #\"/cpu:0\" or \"/gpu:0\" \n",
    "        sess.run(tf.global_variables_initializer())\n",
    "        print('Training')\n",
    "        run_model(sess,y_out,mean_loss,X,y,is_training,X_train,y_train,1,64,100,train_step,True)\n",
    "        print('Validation')\n",
    "        run_model(sess,y_out,mean_loss,X,y,is_training,X_val,y_val,1,64)"
   ]
  },
  {
   "cell_type": "markdown",
   "metadata": {},
   "source": [
    "## Training a specific model\n",
    "\n",
    "In this section, we're going to specify a model for you to construct. The goal here isn't to get good performance (that'll be next), but instead to get comfortable with understanding the TensorFlow documentation and configuring your own model. \n",
    "\n",
    "Using the code provided above as guidance, and using the following TensorFlow documentation, specify a model with the following architecture:\n",
    "\n",
    "* 7x7 Convolutional Layer with 32 filters and stride of 1\n",
    "* ReLU Activation Layer\n",
    "* Spatial Batch Normalization Layer (trainable parameters, with scale and centering)\n",
    "* 2x2 Max Pooling layer with a stride of 2\n",
    "* Affine layer with 1024 output units\n",
    "* ReLU Activation Layer\n",
    "* Affine layer from 1024 input units to 10 outputs\n",
    "\n"
   ]
  },
  {
   "cell_type": "code",
   "execution_count": 5,
   "metadata": {},
   "outputs": [],
   "source": [
    "# clear old variables\n",
    "tf.reset_default_graph()\n",
    "\n",
    "# define our input (e.g. the data that changes every batch)\n",
    "# The first dim is None, and gets sets automatically based on batch size fed in\n",
    "X = tf.placeholder(tf.float32, [None, 32, 32, 3])\n",
    "y = tf.placeholder(tf.int64, [None])\n",
    "is_training = tf.placeholder(tf.bool)\n",
    "\n",
    "# define model\n",
    "def complex_model(X,y,is_training):\n",
    "    W_conv_1 = tf.get_variable(\"W_conv_1\", [7, 7, 3, 32])\n",
    "    b_conv_1 = tf.get_variable(\"b_conv_1\", [32])\n",
    "    W_fc_1 = tf.get_variable('W_fc_1', [5408, 1024])\n",
    "    b_fc_1 = tf.get_variable('b_fc_1', [1024])\n",
    "    W_fc_2 = tf.get_variable('W_fc_2', [1024, 10])\n",
    "    b_fc_2 = tf.get_variable('b_fc_2', [10])\n",
    "    \n",
    "    # (in - filter + 1) / stride\n",
    "    # (32 - 7 + 1) / 1 = 26 => [None, 26, 26, 32]\n",
    "    out_conv_1 = tf.nn.conv2d(X, W_conv_1, strides=[1, 1, 1, 1], padding='VALID') + b_conv_1\n",
    "    out_relu_1 = tf.nn.relu(out_conv_1)\n",
    "    \n",
    "    out_bn_1 = tf.layers.batch_normalization(out_relu_1, training=is_training)\n",
    "    # [None, 13, 13, 32]\n",
    "    out_mp_1 = tf.nn.max_pool(out_bn_1, [1, 2, 2, 1], [1, 2, 2, 1], 'VALID')\n",
    "    out_mp_1_reshaped = tf.reshape(out_mp_1, [-1, 5408])\n",
    "    \n",
    "    out_fc_1 = tf.matmul(out_mp_1_reshaped, W_fc_1) + b_fc_1\n",
    "    out_relu_2 = tf.nn.relu(out_fc_1)\n",
    "    \n",
    "    out_fc_2 = tf.matmul(out_relu_2, W_fc_2) + b_fc_2\n",
    "    \n",
    "    return out_fc_2\n",
    "\n",
    "y_out = complex_model(X,y,is_training)"
   ]
  },
  {
   "cell_type": "markdown",
   "metadata": {},
   "source": [
    "To make sure you're doing the right thing, use the following tool to check the dimensionality of your output (it should be 64 x 10, since our batches have size 64 and the output of the final affine layer should be 10, corresponding to our 10 classes):"
   ]
  },
  {
   "cell_type": "code",
   "execution_count": null,
   "metadata": {},
   "outputs": [],
   "source": [
    "# Now we're going to feed a random batch into the model \n",
    "# and make sure the output is the right size\n",
    "x = np.random.randn(64, 32, 32,3)\n",
    "with tf.Session() as sess:\n",
    "    with tf.device(\"/cpu:0\"): #\"/cpu:0\" or \"/gpu:0\"\n",
    "        tf.global_variables_initializer().run()\n",
    "\n",
    "        ans = sess.run(y_out,feed_dict={X:x,is_training:True})\n",
    "        %timeit sess.run(y_out,feed_dict={X:x,is_training:True})\n",
    "        print(ans.shape)\n",
    "        print(np.array_equal(ans.shape, np.array([64, 10])))"
   ]
  },
  {
   "cell_type": "markdown",
   "metadata": {},
   "source": [
    "You should see the following from the run above \n",
    "\n",
    "`(64, 10)`\n",
    "\n",
    "`True`"
   ]
  },
  {
   "cell_type": "markdown",
   "metadata": {},
   "source": [
    "### GPU!\n",
    "\n",
    "Now, we're going to try and start the model under the GPU device, the rest of the code stays unchanged and all our variables and operations will be computed using accelerated code paths. However, if there is no GPU, we get a Python exception and have to rebuild our graph. On a dual-core CPU, you might see around 50-80ms/batch running the above, while the Google Cloud GPUs (run below) should be around 2-5ms/batch."
   ]
  },
  {
   "cell_type": "code",
   "execution_count": null,
   "metadata": {},
   "outputs": [],
   "source": [
    "try:\n",
    "    with tf.Session() as sess:\n",
    "        with tf.device(\"/gpu:0\") as dev: #\"/cpu:0\" or \"/gpu:0\"\n",
    "            tf.global_variables_initializer().run()\n",
    "\n",
    "            ans = sess.run(y_out,feed_dict={X:x,is_training:True})\n",
    "            %timeit sess.run(y_out,feed_dict={X:x,is_training:True})\n",
    "except tf.errors.InvalidArgumentError:\n",
    "    print(\"no gpu found, please use Google Cloud if you want GPU acceleration\")    \n",
    "    # rebuild the graph\n",
    "    # trying to start a GPU throws an exception \n",
    "    # and also trashes the original graph\n",
    "    tf.reset_default_graph()\n",
    "    X = tf.placeholder(tf.float32, [None, 32, 32, 3])\n",
    "    y = tf.placeholder(tf.int64, [None])\n",
    "    is_training = tf.placeholder(tf.bool)\n",
    "    y_out = complex_model(X,y,is_training)"
   ]
  },
  {
   "cell_type": "markdown",
   "metadata": {},
   "source": [
    "You should observe that even a simple forward pass like this is significantly faster on the GPU. So for the rest of the assignment (and when you go train your models in assignment 3 and your project!), you should use GPU devices. However, with TensorFlow, the default device is a GPU if one is available, and a CPU otherwise, so we can skip the device specification from now on."
   ]
  },
  {
   "cell_type": "markdown",
   "metadata": {},
   "source": [
    "### Train the model.\n",
    "\n",
    "Now that you've seen how to define a model and do a single forward pass of some data through it, let's  walk through how you'd actually train one whole epoch over your training data (using the complex_model you created provided above).\n",
    "\n",
    "Make sure you understand how each TensorFlow function used below corresponds to what you implemented in your custom neural network implementation.\n",
    "\n",
    "First, set up an **RMSprop optimizer** (using a 1e-3 learning rate) and a **cross-entropy loss** function. See the TensorFlow documentation for more information\n",
    "* Layers, Activations, Loss functions : https://www.tensorflow.org/api_guides/python/nn\n",
    "* Optimizers: https://www.tensorflow.org/api_guides/python/train#Optimizers"
   ]
  },
  {
   "cell_type": "code",
   "execution_count": null,
   "metadata": {
    "collapsed": true
   },
   "outputs": [],
   "source": [
    "# Inputs\n",
    "#     y_out: is what your model computes\n",
    "#     y: is your TensorFlow variable with label information\n",
    "# Outputs\n",
    "#    mean_loss: a TensorFlow variable (scalar) with numerical loss\n",
    "#    optimizer: a TensorFlow optimizer\n",
    "# This should be ~3 lines of code!\n",
    "total_loss = tf.nn.softmax_cross_entropy_with_logits_v2(labels=tf.one_hot(y,10), logits=y_out)\n",
    "mean_loss = tf.reduce_mean(total_loss)\n",
    "optimizer = tf.train.RMSPropOptimizer(learning_rate=1e-3)"
   ]
  },
  {
   "cell_type": "code",
   "execution_count": null,
   "metadata": {
    "collapsed": true
   },
   "outputs": [],
   "source": [
    "# batch normalization in tensorflow requires this extra dependency\n",
    "extra_update_ops = tf.get_collection(tf.GraphKeys.UPDATE_OPS)\n",
    "with tf.control_dependencies(extra_update_ops):\n",
    "    train_step = optimizer.minimize(mean_loss)"
   ]
  },
  {
   "cell_type": "markdown",
   "metadata": {},
   "source": [
    "### Train the model\n",
    "Below we'll create a session and train the model over one epoch. You should see a loss of 1.4 to 2.0 and an accuracy of 0.4 to 0.5. There will be some variation due to random seeds and differences in initialization"
   ]
  },
  {
   "cell_type": "code",
   "execution_count": null,
   "metadata": {
    "scrolled": false
   },
   "outputs": [],
   "source": [
    "sess = tf.Session()\n",
    "\n",
    "sess.run(tf.global_variables_initializer())\n",
    "print('Training')\n",
    "run_model(sess,y_out,mean_loss,X,y,is_training,X_train,y_train,1,64,100,train_step)"
   ]
  },
  {
   "cell_type": "markdown",
   "metadata": {},
   "source": [
    "### Check the accuracy of the model.\n",
    "\n",
    "Let's see the train and test code in action -- feel free to use these methods when evaluating the models you develop below. You should see a loss of 1.3 to 2.0 with an accuracy of 0.45 to 0.55."
   ]
  },
  {
   "cell_type": "code",
   "execution_count": null,
   "metadata": {},
   "outputs": [],
   "source": [
    "print('Validation')\n",
    "run_model(sess,y_out,mean_loss,X,y,is_training,X_val,y_val,1,64)"
   ]
  },
  {
   "cell_type": "markdown",
   "metadata": {},
   "source": [
    "## Train a _great_ model on CIFAR-10!\n",
    "\n",
    "Now it's your job to experiment with architectures, hyperparameters, loss functions, and optimizers to train a model that achieves ** >= 70% accuracy on the validation set** of CIFAR-10. You can use the `run_model` function from above."
   ]
  },
  {
   "cell_type": "markdown",
   "metadata": {},
   "source": [
    "### Things you should try:\n",
    "- **Filter size**: Above we used 7x7; this makes pretty pictures but smaller filters may be more efficient\n",
    "- **Number of filters**: Above we used 32 filters. Do more or fewer do better?\n",
    "- **Pooling vs Strided Convolution**: Do you use max pooling or just stride convolutions?\n",
    "- **Batch normalization**: Try adding spatial batch normalization after convolution layers and vanilla batch normalization after affine layers. Do your networks train faster?\n",
    "- **Network architecture**: The network above has two layers of trainable parameters. Can you do better with a deep network? Good architectures to try include:\n",
    "    - [conv-relu-pool]xN -> [affine]xM -> [softmax or SVM]\n",
    "    - [conv-relu-conv-relu-pool]xN -> [affine]xM -> [softmax or SVM]\n",
    "    - [batchnorm-relu-conv]xN -> [affine]xM -> [softmax or SVM]\n",
    "- **Use TensorFlow Scope**: Use TensorFlow scope and/or [tf.layers](https://www.tensorflow.org/api_docs/python/tf/layers) to make it easier to write deeper networks. See [this tutorial](https://www.tensorflow.org/tutorials/layers) for how to use `tf.layers`. \n",
    "- **Use Learning Rate Decay**: [As the notes point out](http://cs231n.github.io/neural-networks-3/#anneal), decaying the learning rate might help the model converge. Feel free to decay every epoch, when loss doesn't change over an entire epoch, or any other heuristic you find appropriate. See the [Tensorflow documentation](https://www.tensorflow.org/versions/master/api_guides/python/train#Decaying_the_learning_rate) for learning rate decay.\n",
    "- **Global Average Pooling**: Instead of flattening and then having multiple affine layers, perform convolutions until your image gets small (7x7 or so) and then perform an average pooling operation to get to a 1x1 image picture (1, 1 , Filter#), which is then reshaped into a (Filter#) vector. This is used in [Google's Inception Network](https://arxiv.org/abs/1512.00567) (See Table 1 for their architecture).\n",
    "- **Regularization**: Add l2 weight regularization, or perhaps use [Dropout as in the TensorFlow MNIST tutorial](https://www.tensorflow.org/get_started/mnist/pros)\n",
    "\n",
    "### Tips for training\n",
    "For each network architecture that you try, you should tune the learning rate and regularization strength. When doing this there are a couple important things to keep in mind:\n",
    "\n",
    "- If the parameters are working well, you should see improvement within a few hundred iterations\n",
    "- Remember the coarse-to-fine approach for hyperparameter tuning: start by testing a large range of hyperparameters for just a few training iterations to find the combinations of parameters that are working at all.\n",
    "- Once you have found some sets of parameters that seem to work, search more finely around these parameters. You may need to train for more epochs.\n",
    "- You should use the validation set for hyperparameter search, and we'll save the test set for evaluating your architecture on the best parameters as selected by the validation set.\n",
    "\n",
    "### Going above and beyond\n",
    "If you are feeling adventurous there are many other features you can implement to try and improve your performance. You are **not required** to implement any of these; however they would be good things to try for extra credit.\n",
    "\n",
    "- Alternative update steps: For the assignment we implemented SGD+momentum, RMSprop, and Adam; you could try alternatives like AdaGrad or AdaDelta.\n",
    "- Alternative activation functions such as leaky ReLU, parametric ReLU, ELU, or MaxOut.\n",
    "- Model ensembles\n",
    "- Data augmentation\n",
    "- New Architectures\n",
    "  - [ResNets](https://arxiv.org/abs/1512.03385) where the input from the previous layer is added to the output.\n",
    "  - [DenseNets](https://arxiv.org/abs/1608.06993) where inputs into previous layers are concatenated together.\n",
    "  - [This blog has an in-depth overview](https://chatbotslife.com/resnets-highwaynets-and-densenets-oh-my-9bb15918ee32)\n",
    "\n",
    "If you do decide to implement something extra, clearly describe it in the \"Extra Credit Description\" cell below.\n",
    "\n",
    "### What we expect\n",
    "At the very least, you should be able to train a ConvNet that gets at **>= 70% accuracy on the validation set**. This is just a lower bound - if you are careful it should be possible to get accuracies much higher than that! Extra credit points will be awarded for particularly high-scoring models or unique approaches.\n",
    "\n",
    "You should use the space below to experiment and train your network. The final cell in this notebook should contain the training and validation set accuracies for your final trained network.\n",
    "\n",
    "Have fun and happy training!"
   ]
  },
  {
   "cell_type": "code",
   "execution_count": 24,
   "metadata": {
    "collapsed": true
   },
   "outputs": [],
   "source": [
    "def test_dimension(model, x, X, y, is_training, options):\n",
    "    y_out = model(X, y, is_training, options)\n",
    "    with tf.Session() as sess, tf.device(\"/cpu:0\"):\n",
    "        tf.global_variables_initializer().run()\n",
    "\n",
    "        ans = sess.run(y_out,feed_dict={X:x,is_training:True})\n",
    "        print('\\n')\n",
    "        print(ans.shape)"
   ]
  },
  {
   "cell_type": "code",
   "execution_count": 4,
   "metadata": {},
   "outputs": [],
   "source": [
    "# Feel free to play with this cell\n",
    "def key_conv(i):\n",
    "    return \"conv\" + str(i)\n",
    "\n",
    "\n",
    "def key_affine(i):\n",
    "    return \"affine\" + str(i)\n",
    "\n",
    "\n",
    "def my_model(X, y, is_training, options):\n",
    "    N, f, k_conv, s_conv = options\n",
    "    out = X\n",
    "    for n in range(N):\n",
    "        with tf.variable_scope(key_conv(n)):\n",
    "#             print(out.shape)\n",
    "            # (in - filter + 1) / stride\n",
    "            # (32 - 7 + 1) / 1 = 26 => [None, 26, 26, 32]\n",
    "            # (26 - 7 + 1) / 1 = 20 => [None, 20, 20, 32]\n",
    "            # (20 - 7 + 1) / 1 = 14 => [None, 14, 14, 32]\n",
    "            # (14 - 7 + 1) / 1 = 8 => [None, 8, 8, 32]\n",
    "            out = tf.layers.conv2d(\n",
    "                inputs=out,\n",
    "                filters=f,\n",
    "                kernel_size=k_conv,\n",
    "                strides=s_conv,\n",
    "                padding=\"valid\",\n",
    "                activation=tf.nn.relu)\n",
    "            out = tf.layers.batch_normalization(out, training=is_training)\n",
    "\n",
    "#     print('\\n')\n",
    "#     print(out.shape)\n",
    "    out = tf.layers.average_pooling2d(out, out.shape[1:3], 1)\n",
    "#     print(out.shape)\n",
    "    out = tf.layers.dense(inputs=out, units=10)\n",
    "    out = tf.layers.batch_normalization(out, training=is_training)\n",
    "    out = tf.reshape(out, [-1, out.shape[-1]])\n",
    "#     print(out.shape)\n",
    "\n",
    "#     for item in tf.get_collection(tf.GraphKeys.GLOBAL_VARIABLES):\n",
    "#         print(\"%s\\t%s\" % (item.name, item.shape))\n",
    "#     for m in xrange(M):\n",
    "#         with tf.variable_scope(key_affine(m)):\n",
    "#             dense = tf.layers.dense(inputs=out_pool, units=1024)\n",
    "    return out"
   ]
  },
  {
   "cell_type": "code",
   "execution_count": 76,
   "metadata": {
    "scrolled": false
   },
   "outputs": [
    {
     "name": "stdout",
     "output_type": "stream",
     "text": [
      "\n",
      "\n",
      "(64, 10)\n"
     ]
    }
   ],
   "source": [
    "tf.reset_default_graph()\n",
    "\n",
    "x = np.random.randn(64, 32, 32, 3)\n",
    "\n",
    "X = tf.placeholder(tf.float32, [None, 32, 32, 3])\n",
    "y = tf.placeholder(tf.int64, [None])\n",
    "is_training = tf.placeholder(tf.bool)\n",
    "\n",
    "N, f = 4, 32\n",
    "k_conv, s_conv = 7, 1\n",
    "options = (N, f, k_conv, s_conv)\n",
    "\n",
    "test_dimension(my_model, x, X, y, is_training, options)"
   ]
  },
  {
   "cell_type": "code",
   "execution_count": 26,
   "metadata": {
    "scrolled": false
   },
   "outputs": [],
   "source": [
    "# Feel free to play with this cell\n",
    "# This default code creates a session\n",
    "# and trains your model for 10 epochs\n",
    "# then prints the validation set accuracy\n",
    "def test_model(model, options, learning_rate=1e-3):\n",
    "    graph = tf.Graph()\n",
    "    with graph.as_default():\n",
    "#         tf.reset_default_graph()\n",
    "\n",
    "        X = tf.placeholder(tf.float32, [None, 32, 32, 3])\n",
    "        y = tf.placeholder(tf.int64, [None])\n",
    "        is_training = tf.placeholder(tf.bool)\n",
    "\n",
    "        y_out = model(X, y, is_training, options)\n",
    "\n",
    "        total_loss = tf.nn.softmax_cross_entropy_with_logits_v2(labels=tf.one_hot(y, 10), logits=y_out)\n",
    "        mean_loss = tf.reduce_mean(total_loss)\n",
    "        optimizer = tf.train.RMSPropOptimizer(learning_rate=learning_rate)\n",
    "\n",
    "        # batch normalization in tensorflow requires this extra dependency\n",
    "        extra_update_ops = tf.get_collection(tf.GraphKeys.UPDATE_OPS)\n",
    "        with tf.control_dependencies(extra_update_ops):\n",
    "            train_step = optimizer.minimize(mean_loss)\n",
    "    \n",
    "    with tf.Session(graph=graph) as sess, tf.device(\"/gpu:0\"):\n",
    "        sess.run(tf.global_variables_initializer())\n",
    "#         print('Training')\n",
    "        # run_model(sess,y_out,mean_loss,X,y,is_training,X_train[:100],y_train[:100],\n",
    "        #           epochs=10, batch_size=64, print_every=100, training=train_step, plot_losses=True)\n",
    "#         print(y.graph)\n",
    "#         print(y_out.graph)\n",
    "#         print(is_training.graph)\n",
    "#         print(train_step.graph)\n",
    "        run_model(sess,y_out,mean_loss,X,y,is_training,X_train,y_train,\n",
    "                  epochs=5, batch_size=64, print_every=100, training=train_step, plot_losses=False,\n",
    "                  graph=graph, disable_print=False)\n",
    "#         print('Validation')\n",
    "        return run_model(sess,y_out,mean_loss,X,y,is_training,X_val,y_val,\n",
    "                  epochs=1, batch_size=64, graph=graph, disable_print=True)"
   ]
  },
  {
   "cell_type": "code",
   "execution_count": 27,
   "metadata": {
    "scrolled": false
   },
   "outputs": [
    {
     "name": "stdout",
     "output_type": "stream",
     "text": [
      "Iteration 0: with minibatch training loss = 2.76 and accuracy of 0.14\n",
      "Iteration 100: with minibatch training loss = 1.88 and accuracy of 0.28\n",
      "Iteration 200: with minibatch training loss = 1.79 and accuracy of 0.39\n",
      "Iteration 300: with minibatch training loss = 1.54 and accuracy of 0.42\n",
      "Iteration 400: with minibatch training loss = 1.78 and accuracy of 0.33\n",
      "Iteration 500: with minibatch training loss = 1.71 and accuracy of 0.39\n",
      "Iteration 600: with minibatch training loss = 1.49 and accuracy of 0.47\n",
      "Iteration 700: with minibatch training loss = 1.47 and accuracy of 0.45\n",
      "Epoch 1, Overall loss = 1.66 and accuracy of 0.395\n",
      "Iteration 800: with minibatch training loss = 1.35 and accuracy of 0.55\n",
      "Iteration 900: with minibatch training loss = 1.34 and accuracy of 0.55\n",
      "Iteration 1000: with minibatch training loss = 1.37 and accuracy of 0.58\n",
      "Iteration 1100: with minibatch training loss = 1.31 and accuracy of 0.52\n",
      "Iteration 1200: with minibatch training loss = 1.47 and accuracy of 0.47\n",
      "Iteration 1300: with minibatch training loss = 1.31 and accuracy of 0.59\n",
      "Iteration 1400: with minibatch training loss = 1.26 and accuracy of 0.58\n",
      "Iteration 1500: with minibatch training loss = 1.6 and accuracy of 0.36\n",
      "Epoch 2, Overall loss = 1.35 and accuracy of 0.515\n",
      "Iteration 1600: with minibatch training loss = 1.26 and accuracy of 0.48\n",
      "Iteration 1700: with minibatch training loss = 1.35 and accuracy of 0.58\n",
      "Iteration 1800: with minibatch training loss = 1.5 and accuracy of 0.47\n",
      "Iteration 1900: with minibatch training loss = 1.26 and accuracy of 0.59\n",
      "Iteration 2000: with minibatch training loss = 1.17 and accuracy of 0.53\n",
      "Iteration 2100: with minibatch training loss = 1.32 and accuracy of 0.53\n",
      "Iteration 2200: with minibatch training loss = 1.11 and accuracy of 0.58\n",
      "Epoch 3, Overall loss = 1.23 and accuracy of 0.562\n",
      "Iteration 2300: with minibatch training loss = 1.09 and accuracy of 0.66\n",
      "Iteration 2400: with minibatch training loss = 1.16 and accuracy of 0.56\n",
      "Iteration 2500: with minibatch training loss = 1.2 and accuracy of 0.58\n",
      "Iteration 2600: with minibatch training loss = 1.13 and accuracy of 0.55\n",
      "Iteration 2700: with minibatch training loss = 1.09 and accuracy of 0.58\n",
      "Iteration 2800: with minibatch training loss = 1.37 and accuracy of 0.47\n",
      "Iteration 2900: with minibatch training loss = 1.31 and accuracy of 0.58\n",
      "Iteration 3000: with minibatch training loss = 1.28 and accuracy of 0.52\n",
      "Epoch 4, Overall loss = 1.16 and accuracy of 0.589\n",
      "Iteration 3100: with minibatch training loss = 1.01 and accuracy of 0.66\n",
      "Iteration 3200: with minibatch training loss = 1.22 and accuracy of 0.64\n",
      "Iteration 3300: with minibatch training loss = 1.2 and accuracy of 0.58\n",
      "Iteration 3400: with minibatch training loss = 0.925 and accuracy of 0.69\n",
      "Iteration 3500: with minibatch training loss = 1.24 and accuracy of 0.58\n",
      "Iteration 3600: with minibatch training loss = 1.03 and accuracy of 0.62\n",
      "Iteration 3700: with minibatch training loss = 1.25 and accuracy of 0.52\n",
      "Iteration 3800: with minibatch training loss = 1.01 and accuracy of 0.64\n",
      "Epoch 5, Overall loss = 1.11 and accuracy of 0.607\n",
      "accuracy: 0.602000\ttime_taken: 42.307821\n",
      "avg_accuracy: 0.602000\tavg_time_taken: 42.307821\n",
      "Iteration 0: with minibatch training loss = 2.82 and accuracy of 0.094\n",
      "Iteration 100: with minibatch training loss = 1.88 and accuracy of 0.3\n",
      "Iteration 200: with minibatch training loss = 1.79 and accuracy of 0.34\n",
      "Iteration 300: with minibatch training loss = 1.58 and accuracy of 0.44\n",
      "Iteration 400: with minibatch training loss = 1.65 and accuracy of 0.48\n",
      "Iteration 500: with minibatch training loss = 1.56 and accuracy of 0.5\n",
      "Iteration 600: with minibatch training loss = 1.2 and accuracy of 0.58\n",
      "Iteration 700: with minibatch training loss = 1.43 and accuracy of 0.5\n",
      "Epoch 1, Overall loss = 1.61 and accuracy of 0.417\n",
      "Iteration 800: with minibatch training loss = 1.52 and accuracy of 0.47\n",
      "Iteration 900: with minibatch training loss = 1.22 and accuracy of 0.55\n",
      "Iteration 1000: with minibatch training loss = 1.27 and accuracy of 0.53\n",
      "Iteration 1100: with minibatch training loss = 1.28 and accuracy of 0.52\n",
      "Iteration 1200: with minibatch training loss = 1.18 and accuracy of 0.59\n",
      "Iteration 1300: with minibatch training loss = 1.28 and accuracy of 0.56\n",
      "Iteration 1400: with minibatch training loss = 1.42 and accuracy of 0.55\n",
      "Iteration 1500: with minibatch training loss = 1.2 and accuracy of 0.52\n",
      "Epoch 2, Overall loss = 1.26 and accuracy of 0.549\n",
      "Iteration 1600: with minibatch training loss = 1.3 and accuracy of 0.55\n",
      "Iteration 1700: with minibatch training loss = 1.06 and accuracy of 0.69\n",
      "Iteration 1800: with minibatch training loss = 1.2 and accuracy of 0.52\n",
      "Iteration 1900: with minibatch training loss = 1.05 and accuracy of 0.61\n",
      "Iteration 2000: with minibatch training loss = 1.25 and accuracy of 0.52\n",
      "Iteration 2100: with minibatch training loss = 0.985 and accuracy of 0.67\n",
      "Iteration 2200: with minibatch training loss = 1.26 and accuracy of 0.55\n",
      "Epoch 3, Overall loss = 1.12 and accuracy of 0.604\n",
      "Iteration 2300: with minibatch training loss = 1.11 and accuracy of 0.64\n",
      "Iteration 2400: with minibatch training loss = 1.16 and accuracy of 0.58\n",
      "Iteration 2500: with minibatch training loss = 0.978 and accuracy of 0.61\n",
      "Iteration 2600: with minibatch training loss = 1.12 and accuracy of 0.56\n",
      "Iteration 2700: with minibatch training loss = 0.87 and accuracy of 0.58\n",
      "Iteration 2800: with minibatch training loss = 1.14 and accuracy of 0.62\n",
      "Iteration 2900: with minibatch training loss = 0.893 and accuracy of 0.75\n",
      "Iteration 3000: with minibatch training loss = 1.1 and accuracy of 0.7\n",
      "Epoch 4, Overall loss = 1.03 and accuracy of 0.638\n",
      "Iteration 3100: with minibatch training loss = 1.32 and accuracy of 0.62\n",
      "Iteration 3200: with minibatch training loss = 1.02 and accuracy of 0.67\n",
      "Iteration 3300: with minibatch training loss = 0.931 and accuracy of 0.66\n",
      "Iteration 3400: with minibatch training loss = 1.12 and accuracy of 0.56\n",
      "Iteration 3500: with minibatch training loss = 1.07 and accuracy of 0.61\n",
      "Iteration 3600: with minibatch training loss = 1.01 and accuracy of 0.66\n",
      "Iteration 3700: with minibatch training loss = 1.19 and accuracy of 0.59\n",
      "Iteration 3800: with minibatch training loss = 0.795 and accuracy of 0.73\n",
      "Epoch 5, Overall loss = 0.962 and accuracy of 0.66\n",
      "accuracy: 0.646000\ttime_taken: 48.425642\n",
      "avg_accuracy: 0.646000\tavg_time_taken: 48.425642\n",
      "Iteration 0: with minibatch training loss = 2.73 and accuracy of 0.14\n",
      "Iteration 100: with minibatch training loss = 2.02 and accuracy of 0.27\n",
      "Iteration 200: with minibatch training loss = 1.59 and accuracy of 0.41\n",
      "Iteration 300: with minibatch training loss = 1.54 and accuracy of 0.48\n",
      "Iteration 400: with minibatch training loss = 1.54 and accuracy of 0.33\n",
      "Iteration 500: with minibatch training loss = 1.41 and accuracy of 0.48\n",
      "Iteration 600: with minibatch training loss = 1.44 and accuracy of 0.5\n",
      "Iteration 700: with minibatch training loss = 1.55 and accuracy of 0.44\n",
      "Epoch 1, Overall loss = 1.6 and accuracy of 0.419\n",
      "Iteration 800: with minibatch training loss = 1.43 and accuracy of 0.44\n",
      "Iteration 900: with minibatch training loss = 1.08 and accuracy of 0.59\n",
      "Iteration 1000: with minibatch training loss = 1.12 and accuracy of 0.62\n",
      "Iteration 1100: with minibatch training loss = 1.43 and accuracy of 0.62\n",
      "Iteration 1200: with minibatch training loss = 0.972 and accuracy of 0.62\n",
      "Iteration 1300: with minibatch training loss = 1.18 and accuracy of 0.56\n",
      "Iteration 1400: with minibatch training loss = 1.22 and accuracy of 0.64\n",
      "Iteration 1500: with minibatch training loss = 1.14 and accuracy of 0.59\n",
      "Epoch 2, Overall loss = 1.21 and accuracy of 0.574\n",
      "Iteration 1600: with minibatch training loss = 0.962 and accuracy of 0.61\n",
      "Iteration 1700: with minibatch training loss = 0.951 and accuracy of 0.67\n",
      "Iteration 1800: with minibatch training loss = 1.14 and accuracy of 0.61\n",
      "Iteration 1900: with minibatch training loss = 0.838 and accuracy of 0.72\n",
      "Iteration 2000: with minibatch training loss = 0.939 and accuracy of 0.66\n",
      "Iteration 2100: with minibatch training loss = 1.02 and accuracy of 0.59\n",
      "Iteration 2200: with minibatch training loss = 0.832 and accuracy of 0.73\n",
      "Epoch 3, Overall loss = 1.05 and accuracy of 0.632\n",
      "Iteration 2300: with minibatch training loss = 0.913 and accuracy of 0.67\n"
     ]
    },
    {
     "name": "stdout",
     "output_type": "stream",
     "text": [
      "Iteration 2400: with minibatch training loss = 0.787 and accuracy of 0.72\n",
      "Iteration 2500: with minibatch training loss = 0.861 and accuracy of 0.72\n",
      "Iteration 2600: with minibatch training loss = 0.816 and accuracy of 0.72\n",
      "Iteration 2700: with minibatch training loss = 0.886 and accuracy of 0.67\n",
      "Iteration 2800: with minibatch training loss = 1.02 and accuracy of 0.66\n",
      "Iteration 2900: with minibatch training loss = 1.11 and accuracy of 0.61\n",
      "Iteration 3000: with minibatch training loss = 0.935 and accuracy of 0.67\n",
      "Epoch 4, Overall loss = 0.944 and accuracy of 0.671\n",
      "Iteration 3100: with minibatch training loss = 0.904 and accuracy of 0.73\n",
      "Iteration 3200: with minibatch training loss = 0.837 and accuracy of 0.73\n",
      "Iteration 3300: with minibatch training loss = 0.829 and accuracy of 0.7\n",
      "Iteration 3400: with minibatch training loss = 1.15 and accuracy of 0.64\n",
      "Iteration 3500: with minibatch training loss = 0.863 and accuracy of 0.62\n",
      "Iteration 3600: with minibatch training loss = 0.761 and accuracy of 0.77\n",
      "Iteration 3700: with minibatch training loss = 1.08 and accuracy of 0.61\n",
      "Iteration 3800: with minibatch training loss = 0.679 and accuracy of 0.7\n",
      "Epoch 5, Overall loss = 0.868 and accuracy of 0.697\n",
      "accuracy: 0.678000\ttime_taken: 66.216010\n",
      "avg_accuracy: 0.678000\tavg_time_taken: 66.216010\n",
      "Iteration 0: with minibatch training loss = 2.74 and accuracy of 0.11\n",
      "Iteration 100: with minibatch training loss = 2.12 and accuracy of 0.25\n",
      "Iteration 200: with minibatch training loss = 1.76 and accuracy of 0.36\n",
      "Iteration 300: with minibatch training loss = 1.65 and accuracy of 0.44\n",
      "Iteration 400: with minibatch training loss = 1.61 and accuracy of 0.36\n",
      "Iteration 500: with minibatch training loss = 1.44 and accuracy of 0.45\n",
      "Iteration 600: with minibatch training loss = 1.52 and accuracy of 0.44\n",
      "Iteration 700: with minibatch training loss = 1.48 and accuracy of 0.45\n",
      "Epoch 1, Overall loss = 1.59 and accuracy of 0.429\n",
      "Iteration 800: with minibatch training loss = 1.6 and accuracy of 0.48\n",
      "Iteration 900: with minibatch training loss = 1.07 and accuracy of 0.58\n",
      "Iteration 1000: with minibatch training loss = 1.25 and accuracy of 0.56\n",
      "Iteration 1100: with minibatch training loss = 1.17 and accuracy of 0.52\n",
      "Iteration 1200: with minibatch training loss = 1.17 and accuracy of 0.61\n",
      "Iteration 1300: with minibatch training loss = 0.942 and accuracy of 0.69\n",
      "Iteration 1400: with minibatch training loss = 0.914 and accuracy of 0.64\n",
      "Iteration 1500: with minibatch training loss = 1.12 and accuracy of 0.66\n",
      "Epoch 2, Overall loss = 1.19 and accuracy of 0.582\n",
      "Iteration 1600: with minibatch training loss = 1.2 and accuracy of 0.56\n",
      "Iteration 1700: with minibatch training loss = 1.28 and accuracy of 0.58\n",
      "Iteration 1800: with minibatch training loss = 1.02 and accuracy of 0.64\n",
      "Iteration 1900: with minibatch training loss = 0.952 and accuracy of 0.61\n",
      "Iteration 2000: with minibatch training loss = 0.752 and accuracy of 0.7\n",
      "Iteration 2100: with minibatch training loss = 1.06 and accuracy of 0.59\n",
      "Iteration 2200: with minibatch training loss = 0.848 and accuracy of 0.7\n",
      "Epoch 3, Overall loss = 1.01 and accuracy of 0.646\n",
      "Iteration 2300: with minibatch training loss = 1.17 and accuracy of 0.55\n",
      "Iteration 2400: with minibatch training loss = 0.629 and accuracy of 0.78\n",
      "Iteration 2500: with minibatch training loss = 0.919 and accuracy of 0.67\n",
      "Iteration 2600: with minibatch training loss = 0.866 and accuracy of 0.72\n",
      "Iteration 2700: with minibatch training loss = 0.796 and accuracy of 0.75\n",
      "Iteration 2800: with minibatch training loss = 0.944 and accuracy of 0.67\n",
      "Iteration 2900: with minibatch training loss = 0.867 and accuracy of 0.66\n",
      "Iteration 3000: with minibatch training loss = 0.88 and accuracy of 0.61\n",
      "Epoch 4, Overall loss = 0.896 and accuracy of 0.688\n",
      "Iteration 3100: with minibatch training loss = 0.737 and accuracy of 0.72\n",
      "Iteration 3200: with minibatch training loss = 0.922 and accuracy of 0.7\n",
      "Iteration 3300: with minibatch training loss = 0.802 and accuracy of 0.73\n",
      "Iteration 3400: with minibatch training loss = 0.711 and accuracy of 0.77\n",
      "Iteration 3500: with minibatch training loss = 0.762 and accuracy of 0.69\n",
      "Iteration 3600: with minibatch training loss = 0.663 and accuracy of 0.84\n",
      "Iteration 3700: with minibatch training loss = 0.825 and accuracy of 0.72\n",
      "Iteration 3800: with minibatch training loss = 0.773 and accuracy of 0.72\n",
      "Epoch 5, Overall loss = 0.807 and accuracy of 0.72\n",
      "accuracy: 0.659000\ttime_taken: 85.191386\n",
      "avg_accuracy: 0.659000\tavg_time_taken: 85.191386\n",
      "kernel (None, 16, None, None):\taccu: 0.602\ttime: 42.308\n",
      "kernel (None, 32, None, None):\taccu: 0.646\ttime: 48.426\n",
      "kernel (None, 48, None, None):\taccu: 0.678\ttime: 66.216\n",
      "kernel (None, 64, None, None):\taccu: 0.659\ttime: 85.191\n"
     ]
    }
   ],
   "source": [
    "import time\n",
    "\n",
    "ts = time.time\n",
    "\n",
    "N, f = 4, 32\n",
    "k_conv, s_conv = 7, 1\n",
    "learning_rate = 5e-3\n",
    "base_options = [N, f, k_conv, s_conv]\n",
    "\n",
    "probe_count = 1\n",
    "options_cands = [(None, 16, None, None), (None, 32, None, None), (None, 48, None, None), (None, 64, None, None)]\n",
    "\n",
    "stats = []\n",
    "\n",
    "for i, options_cand in enumerate(options_cands):\n",
    "    options = [item if item is not None else base_options[idx] for idx, item in enumerate(options_cand)]\n",
    "    total_time_taken = 0\n",
    "    accuracy_sum = 0\n",
    "    for j in range(probe_count):\n",
    "        start = ts()\n",
    "        loss, accuracy = test_model(my_model, options, learning_rate=learning_rate)\n",
    "        time_taken = ts() - start\n",
    "\n",
    "        accuracy_sum += accuracy\n",
    "        total_time_taken += time_taken\n",
    "        print(\"accuracy: %f\\ttime_taken: %f\" % (accuracy, time_taken))\n",
    "    avg_accuracy = accuracy_sum / probe_count\n",
    "    avg_time_taken = total_time_taken / probe_count\n",
    "    print(\"avg_accuracy: %f\\tavg_time_taken: %f\" % (avg_accuracy, avg_time_taken))\n",
    "    stats.append((avg_accuracy, avg_time_taken))\n",
    "\n",
    "# print(\"best_accuracy: %f\\nlearning_rate:%f\" % (best_accuracy, learning_rate))\n",
    "for i in range(len(stats)):\n",
    "    print(\"kernel %s:\\taccu: %.3f\\ttime: %.3f\" % (options_cands[i], stats[i][0], stats[i][1]))"
   ]
  },
  {
   "cell_type": "code",
   "execution_count": 9,
   "metadata": {},
   "outputs": [
    {
     "name": "stdout",
     "output_type": "stream",
     "text": [
      "<tensorflow.python.framework.ops.Graph object at 0x17e0033d0>\n",
      "<tensorflow.python.framework.ops.Graph object at 0x122730210>\n"
     ]
    },
    {
     "ename": "ValueError",
     "evalue": "Tensor(\"ArgMax_1:0\", shape=(?,), dtype=int64) must be from the same graph as Tensor(\"Placeholder_1:0\", shape=(?,), dtype=int64).",
     "output_type": "error",
     "traceback": [
      "\u001b[0;31m---------------------------------------------------------------------------\u001b[0m",
      "\u001b[0;31mValueError\u001b[0m                                Traceback (most recent call last)",
      "\u001b[0;32m<ipython-input-9-753b539a64f9>\u001b[0m in \u001b[0;36m<module>\u001b[0;34m()\u001b[0m\n\u001b[1;32m      1\u001b[0m run_model(sess,y_out,mean_loss,y,X_train[:100],y_train[:100],\n\u001b[0;32m----> 2\u001b[0;31m           epochs=1, batch_size=64)\n\u001b[0m",
      "\u001b[0;32m<ipython-input-4-9baee0642d3d>\u001b[0m in \u001b[0;36mrun_model\u001b[0;34m(session, predict, loss_val, y, Xd, yd, epochs, batch_size, print_every, training, plot_losses)\u001b[0m\n\u001b[1;32m      5\u001b[0m     \u001b[0;32mprint\u001b[0m\u001b[0;34m(\u001b[0m\u001b[0my\u001b[0m\u001b[0;34m.\u001b[0m\u001b[0mgraph\u001b[0m\u001b[0;34m)\u001b[0m\u001b[0;34m\u001b[0m\u001b[0m\n\u001b[1;32m      6\u001b[0m     \u001b[0;32mprint\u001b[0m\u001b[0;34m(\u001b[0m\u001b[0mpredict\u001b[0m\u001b[0;34m.\u001b[0m\u001b[0mgraph\u001b[0m\u001b[0;34m)\u001b[0m\u001b[0;34m\u001b[0m\u001b[0m\n\u001b[0;32m----> 7\u001b[0;31m     \u001b[0mcorrect_prediction\u001b[0m \u001b[0;34m=\u001b[0m \u001b[0mtf\u001b[0m\u001b[0;34m.\u001b[0m\u001b[0mequal\u001b[0m\u001b[0;34m(\u001b[0m\u001b[0mtf\u001b[0m\u001b[0;34m.\u001b[0m\u001b[0margmax\u001b[0m\u001b[0;34m(\u001b[0m\u001b[0mpredict\u001b[0m\u001b[0;34m,\u001b[0m\u001b[0;36m1\u001b[0m\u001b[0;34m)\u001b[0m\u001b[0;34m,\u001b[0m \u001b[0my\u001b[0m\u001b[0;34m)\u001b[0m\u001b[0;34m\u001b[0m\u001b[0m\n\u001b[0m\u001b[1;32m      8\u001b[0m     \u001b[0maccuracy\u001b[0m \u001b[0;34m=\u001b[0m \u001b[0mtf\u001b[0m\u001b[0;34m.\u001b[0m\u001b[0mreduce_mean\u001b[0m\u001b[0;34m(\u001b[0m\u001b[0mtf\u001b[0m\u001b[0;34m.\u001b[0m\u001b[0mcast\u001b[0m\u001b[0;34m(\u001b[0m\u001b[0mcorrect_prediction\u001b[0m\u001b[0;34m,\u001b[0m \u001b[0mtf\u001b[0m\u001b[0;34m.\u001b[0m\u001b[0mfloat32\u001b[0m\u001b[0;34m)\u001b[0m\u001b[0;34m)\u001b[0m\u001b[0;34m\u001b[0m\u001b[0m\n\u001b[1;32m      9\u001b[0m \u001b[0;34m\u001b[0m\u001b[0m\n",
      "\u001b[0;32m/Users/jeong/Dev/python/projects/cs231/assignments/assignment2/.env/lib/python2.7/site-packages/tensorflow/python/ops/gen_math_ops.pyc\u001b[0m in \u001b[0;36mequal\u001b[0;34m(x, y, name)\u001b[0m\n\u001b[1;32m   2527\u001b[0m   \u001b[0;32mif\u001b[0m \u001b[0m_ctx\u001b[0m \u001b[0;32mis\u001b[0m \u001b[0mNone\u001b[0m \u001b[0;32mor\u001b[0m \u001b[0;32mnot\u001b[0m \u001b[0m_ctx\u001b[0m\u001b[0;34m.\u001b[0m\u001b[0m_eager_context\u001b[0m\u001b[0;34m.\u001b[0m\u001b[0mis_eager\u001b[0m\u001b[0;34m:\u001b[0m\u001b[0;34m\u001b[0m\u001b[0m\n\u001b[1;32m   2528\u001b[0m     _, _, _op = _op_def_lib._apply_op_helper(\n\u001b[0;32m-> 2529\u001b[0;31m         \"Equal\", x=x, y=y, name=name)\n\u001b[0m\u001b[1;32m   2530\u001b[0m     \u001b[0m_result\u001b[0m \u001b[0;34m=\u001b[0m \u001b[0m_op\u001b[0m\u001b[0;34m.\u001b[0m\u001b[0moutputs\u001b[0m\u001b[0;34m[\u001b[0m\u001b[0;34m:\u001b[0m\u001b[0;34m]\u001b[0m\u001b[0;34m\u001b[0m\u001b[0m\n\u001b[1;32m   2531\u001b[0m     \u001b[0m_inputs_flat\u001b[0m \u001b[0;34m=\u001b[0m \u001b[0m_op\u001b[0m\u001b[0;34m.\u001b[0m\u001b[0minputs\u001b[0m\u001b[0;34m\u001b[0m\u001b[0m\n",
      "\u001b[0;32m/Users/jeong/Dev/python/projects/cs231/assignments/assignment2/.env/lib/python2.7/site-packages/tensorflow/python/framework/op_def_library.pyc\u001b[0m in \u001b[0;36m_apply_op_helper\u001b[0;34m(self, op_type_name, name, **keywords)\u001b[0m\n\u001b[1;32m    348\u001b[0m       \u001b[0;31m# Need to flatten all the arguments into a list.\u001b[0m\u001b[0;34m\u001b[0m\u001b[0;34m\u001b[0m\u001b[0m\n\u001b[1;32m    349\u001b[0m       \u001b[0;31m# pylint: disable=protected-access\u001b[0m\u001b[0;34m\u001b[0m\u001b[0;34m\u001b[0m\u001b[0m\n\u001b[0;32m--> 350\u001b[0;31m       \u001b[0mg\u001b[0m \u001b[0;34m=\u001b[0m \u001b[0mops\u001b[0m\u001b[0;34m.\u001b[0m\u001b[0m_get_graph_from_inputs\u001b[0m\u001b[0;34m(\u001b[0m\u001b[0m_Flatten\u001b[0m\u001b[0;34m(\u001b[0m\u001b[0mkeywords\u001b[0m\u001b[0;34m.\u001b[0m\u001b[0mvalues\u001b[0m\u001b[0;34m(\u001b[0m\u001b[0;34m)\u001b[0m\u001b[0;34m)\u001b[0m\u001b[0;34m)\u001b[0m\u001b[0;34m\u001b[0m\u001b[0m\n\u001b[0m\u001b[1;32m    351\u001b[0m       \u001b[0;31m# pylint: enable=protected-access\u001b[0m\u001b[0;34m\u001b[0m\u001b[0;34m\u001b[0m\u001b[0m\n\u001b[1;32m    352\u001b[0m     \u001b[0;32mexcept\u001b[0m \u001b[0mAssertionError\u001b[0m \u001b[0;32mas\u001b[0m \u001b[0me\u001b[0m\u001b[0;34m:\u001b[0m\u001b[0;34m\u001b[0m\u001b[0m\n",
      "\u001b[0;32m/Users/jeong/Dev/python/projects/cs231/assignments/assignment2/.env/lib/python2.7/site-packages/tensorflow/python/framework/ops.pyc\u001b[0m in \u001b[0;36m_get_graph_from_inputs\u001b[0;34m(op_input_list, graph)\u001b[0m\n\u001b[1;32m   5635\u001b[0m         \u001b[0mgraph\u001b[0m \u001b[0;34m=\u001b[0m \u001b[0mgraph_element\u001b[0m\u001b[0;34m.\u001b[0m\u001b[0mgraph\u001b[0m\u001b[0;34m\u001b[0m\u001b[0m\n\u001b[1;32m   5636\u001b[0m       \u001b[0;32melif\u001b[0m \u001b[0moriginal_graph_element\u001b[0m \u001b[0;32mis\u001b[0m \u001b[0;32mnot\u001b[0m \u001b[0mNone\u001b[0m\u001b[0;34m:\u001b[0m\u001b[0;34m\u001b[0m\u001b[0m\n\u001b[0;32m-> 5637\u001b[0;31m         \u001b[0m_assert_same_graph\u001b[0m\u001b[0;34m(\u001b[0m\u001b[0moriginal_graph_element\u001b[0m\u001b[0;34m,\u001b[0m \u001b[0mgraph_element\u001b[0m\u001b[0;34m)\u001b[0m\u001b[0;34m\u001b[0m\u001b[0m\n\u001b[0m\u001b[1;32m   5638\u001b[0m       \u001b[0;32melif\u001b[0m \u001b[0mgraph_element\u001b[0m\u001b[0;34m.\u001b[0m\u001b[0mgraph\u001b[0m \u001b[0;32mis\u001b[0m \u001b[0;32mnot\u001b[0m \u001b[0mgraph\u001b[0m\u001b[0;34m:\u001b[0m\u001b[0;34m\u001b[0m\u001b[0m\n\u001b[1;32m   5639\u001b[0m         \u001b[0;32mraise\u001b[0m \u001b[0mValueError\u001b[0m\u001b[0;34m(\u001b[0m\u001b[0;34m\"%s is not from the passed-in graph.\"\u001b[0m \u001b[0;34m%\u001b[0m \u001b[0mgraph_element\u001b[0m\u001b[0;34m)\u001b[0m\u001b[0;34m\u001b[0m\u001b[0m\n",
      "\u001b[0;32m/Users/jeong/Dev/python/projects/cs231/assignments/assignment2/.env/lib/python2.7/site-packages/tensorflow/python/framework/ops.pyc\u001b[0m in \u001b[0;36m_assert_same_graph\u001b[0;34m(original_item, item)\u001b[0m\n\u001b[1;32m   5571\u001b[0m   \u001b[0;32mif\u001b[0m \u001b[0moriginal_item\u001b[0m\u001b[0;34m.\u001b[0m\u001b[0mgraph\u001b[0m \u001b[0;32mis\u001b[0m \u001b[0;32mnot\u001b[0m \u001b[0mitem\u001b[0m\u001b[0;34m.\u001b[0m\u001b[0mgraph\u001b[0m\u001b[0;34m:\u001b[0m\u001b[0;34m\u001b[0m\u001b[0m\n\u001b[1;32m   5572\u001b[0m     raise ValueError(\"%s must be from the same graph as %s.\" % (item,\n\u001b[0;32m-> 5573\u001b[0;31m                                                                 original_item))\n\u001b[0m\u001b[1;32m   5574\u001b[0m \u001b[0;34m\u001b[0m\u001b[0m\n\u001b[1;32m   5575\u001b[0m \u001b[0;34m\u001b[0m\u001b[0m\n",
      "\u001b[0;31mValueError\u001b[0m: Tensor(\"ArgMax_1:0\", shape=(?,), dtype=int64) must be from the same graph as Tensor(\"Placeholder_1:0\", shape=(?,), dtype=int64)."
     ]
    }
   ],
   "source": [
    "run_model(sess,y_out,mean_loss,X,y,is_training,X_train[:100],y_train[:100],\n",
    "          epochs=1, batch_size=64)"
   ]
  },
  {
   "cell_type": "code",
   "execution_count": null,
   "metadata": {
    "collapsed": true
   },
   "outputs": [],
   "source": [
    "# Test your model here, and make sure \n",
    "# the output of this cell is the accuracy\n",
    "# of your best model on the training and val sets\n",
    "# We're looking for >= 70% accuracy on Validation\n",
    "print('Training')\n",
    "run_model(sess,y_out,mean_loss,X,y,is_training,X_train,y_train,1,64)\n",
    "print('Validation')\n",
    "run_model(sess,y_out,mean_loss,X,y,is_training,X_val,y_val,1,64)"
   ]
  },
  {
   "cell_type": "markdown",
   "metadata": {},
   "source": [
    "### Describe what you did here\n",
    "In this cell you should also write an explanation of what you did, any additional features that you implemented, and any visualizations or graphs that you make in the process of training and evaluating your network"
   ]
  },
  {
   "cell_type": "markdown",
   "metadata": {},
   "source": [
    "_Tell us here_"
   ]
  },
  {
   "cell_type": "markdown",
   "metadata": {},
   "source": [
    "### Test Set - Do this only once\n",
    "Now that we've gotten a result that we're happy with, we test our final model on the test set. This would be the score we would achieve on a competition. Think about how this compares to your validation set accuracy."
   ]
  },
  {
   "cell_type": "code",
   "execution_count": null,
   "metadata": {
    "collapsed": true
   },
   "outputs": [],
   "source": [
    "print('Test')\n",
    "run_model(sess,y_out,mean_loss,X,y,is_training,X_test,y_test,1,64)"
   ]
  },
  {
   "cell_type": "markdown",
   "metadata": {},
   "source": [
    "## Going further with TensorFlow\n",
    "\n",
    "The next assignment will make heavy use of TensorFlow. You might also find it useful for your projects. \n"
   ]
  },
  {
   "cell_type": "markdown",
   "metadata": {},
   "source": [
    "# Extra Credit Description\n",
    "If you implement any additional features for extra credit, clearly describe them here with pointers to any code in this or other files if applicable."
   ]
  }
 ],
 "metadata": {
  "kernelspec": {
   "display_name": "Python 3",
   "language": "python",
   "name": "python3"
  },
  "language_info": {
   "codemirror_mode": {
    "name": "ipython",
    "version": 3
   },
   "file_extension": ".py",
   "mimetype": "text/x-python",
   "name": "python",
   "nbconvert_exporter": "python",
   "pygments_lexer": "ipython3",
   "version": "3.6.4"
  }
 },
 "nbformat": 4,
 "nbformat_minor": 1
}
